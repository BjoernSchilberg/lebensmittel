{
 "cells": [
  {
   "cell_type": "markdown",
   "metadata": {
    "hide_input": true
   },
   "source": [
    "# Daten und Entscheidungsbäume - So macht das ein Computer"
   ]
  },
  {
   "cell_type": "code",
   "execution_count": 1,
   "metadata": {
    "jupyter": {
     "source_hidden": true
    }
   },
   "outputs": [
    {
     "name": "stdout",
     "output_type": "stream",
     "text": [
      "Defaulting to user installation because normal site-packages is not writeable\n",
      "Requirement already satisfied: graphviz in /home/jupyter-beezlebug/.local/lib/python3.10/site-packages (0.20.3)\n"
     ]
    }
   ],
   "source": [
    "!pip install graphviz"
   ]
  },
  {
   "cell_type": "code",
   "execution_count": 2,
   "metadata": {
    "editable": true,
    "hideCode": true,
    "hidePrompt": true,
    "hide_input": true,
    "jupyter": {
     "source_hidden": true
    },
    "slideshow": {
     "slide_type": ""
    },
    "tags": []
   },
   "outputs": [],
   "source": [
    "#from dectrees_interactive_tools import ClassificationTree as ct\n",
    "from PyTree import ClassificationTree as ct\n",
    "\n",
    "import pandas as pd\n",
    "import numpy as np\n",
    "\n",
    "from ipywidgets import interact, interactive, fixed, interact_manual, Layout, HBox\n",
    "import ipywidgets as widgets\n"
   ]
  },
  {
   "cell_type": "markdown",
   "metadata": {},
   "source": [
    "<div class=\"panel panel-success\">\n",
    "    <div class=\"panel-heading\">\n",
    "        <b> Erklärungstext - Von Datenkarten zu Datentabellen im Computer</b>\n",
    "    </div>\n",
    "    <div class=\"panel-body\">\n",
    "Der Computer arbeitet mit Datentabellen statt mit Datenkarten. Alle Informationen der Karten befinden sich in einer einzigen Tabelle. <p><p>\n",
    "        Unten siehst Du den Apfel und das Popcorn als Datenarte und darunter als Datentabelle.\n",
    "        <p><p>\n",
    "        Die Daten der Tabelle muss ein Mensch eintragen, damit der Computer damit weiterarbeiten kann.\n",
    "\n",
    "</div> "
   ]
  },
  {
   "cell_type": "markdown",
   "metadata": {},
   "source": [
    "<td> \n",
    "    <img src=\"Bilder/Apfel.png\" alt=\"Drawing\" style=\"width: 300px; float: left;\"  hspace=40 /> \n",
    "    <img src=\"Bilder/Popcorn.png\" alt=\"Drawing\" style=\"width: 300px; float: left;\" hspace=40/>\n",
    "</td>\n"
   ]
  },
  {
   "cell_type": "markdown",
   "metadata": {},
   "source": [
    "<td> \n",
    "    <img src=\"Bilder/Datentabelle.png\" alt=\"Drawing\" style=\"width: 530px; float: left;\"  hspace=40 /> \n",
    "</td>\n"
   ]
  },
  {
   "cell_type": "markdown",
   "metadata": {},
   "source": [
    "<div class=\"panel panel-info\">\n",
    "    <div class=\"panel-heading\">\n",
    "        <b>Aufgabe - Wie lauten die richtigen Angaben?</b>\n",
    "    </div>\n",
    "    <div class=\"panel-body\">\n",
    "Leider ist beim Übertragen der Daten in die Tabelle etwas schief gelaufen. Ein Wert wurde falsch eingetragen. Findest du heraus, welcher Wert das ist? \n",
    "       <p><p> \n",
    "        Schaue dir die Tabelle und die Datenkarten genau an und vergleiche.\n",
    " \n",
    "<p><p>\n",
    "        Wähle unten aus, bei welchem Lebensmittel und welchem Merkmal der Fehler passiert ist!\n",
    "    </div> \n",
    "</div>"
   ]
  },
  {
   "cell_type": "code",
   "execution_count": 3,
   "metadata": {
    "hideCode": true,
    "hidePrompt": true,
    "hide_input": true,
    "jupyter": {
     "source_hidden": true
    }
   },
   "outputs": [
    {
     "data": {
      "application/vnd.jupyter.widget-view+json": {
       "model_id": "7aacb5cf61ad486dad65fb4fa0ee799d",
       "version_major": 2,
       "version_minor": 0
      },
      "text/plain": [
       "interactive(children=(Dropdown(description='Lebensmittel', options=('Apfel', 'Popcorn'), value='Apfel'), Dropd…"
      ]
     },
     "metadata": {},
     "output_type": "display_data"
    }
   ],
   "source": [
    "def antwort(Lebensmittel, Merkmal):\n",
    "    \n",
    "    if (Lebensmittel == 'Apfel') & (Merkmal == 'Eiweiß'):\n",
    "        print('Gut gemacht!')\n",
    "    else:\n",
    "        print('Leider falsch, probier es noch einmal!')\n",
    "\n",
    "antwort_widget = interactive(antwort,{'manual': True, 'manual_name': 'Antwort überprüfen'}, Lebensmittel = ['Apfel', 'Popcorn'], Merkmal = ['Energie', 'Fett', 'gesättigte Fettsäuren', 'Kohlenhydrate', 'Zucker', 'Eiweiß', 'Salz']) \n",
    "display(antwort_widget)\n"
   ]
  },
  {
   "cell_type": "markdown",
   "metadata": {
    "hide_input": true
   },
   "source": [
    "# Daten importieren"
   ]
  },
  {
   "cell_type": "markdown",
   "metadata": {
    "hide_input": true
   },
   "source": [
    "<div class=\"panel panel-success\">\n",
    "    <div class=\"panel-heading\">\n",
    "        <b> Eklärungstext - Daten importieren </b>\n",
    "    </div>\n",
    "    <div class=\"panel-body\">\n",
    "Den kompletten Datensatz ohne Fehler kannst du jetzt importieren, indem du auf \"Lade Daten\" klickst. \n",
    "     </div> "
   ]
  },
  {
   "cell_type": "code",
   "execution_count": 4,
   "metadata": {
    "hideCode": true,
    "hidePrompt": true,
    "hide_input": true,
    "jupyter": {
     "source_hidden": true
    }
   },
   "outputs": [
    {
     "data": {
      "application/vnd.jupyter.widget-view+json": {
       "model_id": "98fc26210eb8462aa6bc42a44cdad068",
       "version_major": 2,
       "version_minor": 0
      },
      "text/plain": [
       "interactive(children=(Button(description='Lade Daten', style=ButtonStyle()), Output()), _dom_classes=('widget-…"
      ]
     },
     "metadata": {},
     "output_type": "display_data"
    }
   ],
   "source": [
    "df_lebensmittel = pd.read_csv('Daten/Trainingsdaten.csv', sep = ';').set_index('Name')\n",
    "\n",
    "def read_csv():\n",
    "    display(df_lebensmittel)\n",
    "\n",
    "daten_widget = interactive(read_csv,{'manual': True, 'manual_name': 'Lade Daten'}) \n",
    "display(daten_widget)\n"
   ]
  },
  {
   "cell_type": "markdown",
   "metadata": {},
   "source": [
    "# Daten labeln"
   ]
  },
  {
   "cell_type": "markdown",
   "metadata": {},
   "source": [
    "<div class=\"panel panel-success\">\n",
    "    <div class=\"panel-heading\">\n",
    "        <b> Eklärungtext - Was ist eher empfehlenswert und was eher nicht? </b>\n",
    "    </div>\n",
    "    <div class=\"panel-body\">\n",
    "Der Computer \"weiß\" noch nicht, welches Lebensmittel \"eher empfehlenswert\" und welches \"eher nicht empfehlenswert\" ist. Das musst Du ihm jetzt beibringen.<p><p>\n",
    "        Im Unterricht hast Du dazu farbige Büroklammern an die Karten geheftet. Für den Computer muss es in die Datentabelle geschrieben werden.\n",
    "</div> \n"
   ]
  },
  {
   "cell_type": "markdown",
   "metadata": {},
   "source": [
    "<td> \n",
    "    <img src=\"Bilder/Apfel_label.png\" alt=\"Drawing\" style=\"width: 300px; float: left;\"  hspace=40 /> \n",
    "    <img src=\"Bilder/Popcorn_label.png\" alt=\"Drawing\" style=\"width: 300px; float: left;\" hspace=40/>\n",
    "</td>\n"
   ]
  },
  {
   "cell_type": "markdown",
   "metadata": {},
   "source": [
    "<div class=\"panel panel-info\">\n",
    "    <div class=\"panel-heading\">\n",
    "        <b>Aufgabe - Die Datentabelle ergänzen</b>\n",
    "    </div>\n",
    "    <div class=\"panel-body\">\n",
    " Wähle für jedes Lebensmittel aus, ob der Computer es als <b>\"eher empfehlenswert\"</b> oder als <b>\"eher nicht empfehlenswert\"</b> labeln soll. Du kannst es auch <b>\"beiseite legen\"</b>, dann wird es aus der Datentabelle gelöscht.\n",
    "        <p><p>\n",
    "        Am Ende siehst Du, dass die Datentabelle eine weitere Spalte \"Label\" hat.\n",
    "    </div> \n",
    "</div>"
   ]
  },
  {
   "cell_type": "code",
   "execution_count": 5,
   "metadata": {
    "hideCode": true,
    "hidePrompt": true,
    "hide_input": false,
    "jupyter": {
     "source_hidden": true
    }
   },
   "outputs": [],
   "source": [
    "def label_data(Apfel, Banane, Haselnussschnitte, Chips, Pommes, Nudeln, Erbsen, Eisbergsalat, Frikadelle, \n",
    "               Brotscheibe, Popcorn, Vanilleeis, Marmorkuchen, ChickenNuggets, Erdbeerjoghurt, Salatgurke, \n",
    "               Brokkoli, Schokomüsli, Waffel, Kartoffel, Vollmilchschokolade, Mayonaise, Putenbrustfilet, \n",
    "               Avocado, Gummibärchen, Knäckebrot, Haferflocken, Himbeermarmelade, Salzstangen, Räucherlachs, \n",
    "               Spiegelei, Zwieback, Salamischeibe, Bratwurst, Butter, Senf, Walnüsse, Datteln, Champignons, \n",
    "               SchwarzwälderSchinken):\n",
    "    \n",
    "    df = daten_widget.result\n",
    "    df['Etikett'] = [Apfel, Banane, Haselnussschnitte, Chips, Pommes, Nudeln, Erbsen, Eisbergsalat, Frikadelle, \n",
    "               Brotscheibe, Popcorn, Vanilleeis, Marmorkuchen, ChickenNuggets, Erdbeerjoghurt, Salatgurke, \n",
    "               Brokkoli, Schokomüsli, Waffel, Kartoffel, Vollmilchschokolade, Mayonaise, Putenbrustfilet, \n",
    "               Avocado, Gummibärchen, Knäckebrot, Haferflocken, Himbeermarmelade, Salzstangen, Räucherlachs, \n",
    "               Spiegelei, Zwieback, Salamischeibe, Bratwurst, Butter, Senf, Walnüsse, Datteln, Champignons, \n",
    "               SchwarzwälderSchinken]\n",
    "    \n",
    "    \n",
    "    return Apfel\n",
    "    \n",
    "label_widget = interactive(label_data,{'manual': True, 'manual_name': 'Label festlegen'}, \n",
    "                            Apfel = ['beiseite legen', 'eher empf.', 'eher nicht empf.'],\n",
    "                            Banane = ['beiseite legen', 'eher empf.', 'eher nicht empf.'],\n",
    "                            Haselnussschnitte = ['beiseite legen', 'eher empf.', 'eher nicht empf.'],\n",
    "                            Chips = ['beiseite legen', 'eher empf.', 'eher nicht empf.'],\n",
    "                            Pommes = ['beiseite legen', 'eher empf.', 'eher nicht empf.'],\n",
    "                            Nudeln = ['beiseite legen', 'eher empf.', 'eher nicht empf.'],\n",
    "                            Erbsen = ['beiseite legen', 'eher empf.', 'eher nicht empf.'],\n",
    "                            Eisbergsalat = ['beiseite legen', 'eher empf.', 'eher nicht empf.'],\n",
    "                            Frikadelle = ['beiseite legen', 'eher empf.', 'eher nicht empf.'],\n",
    "                            Brotscheibe = ['beiseite legen', 'eher empf.', 'eher nicht empf.'],\n",
    "                            Popcorn = ['beiseite legen', 'eher empf.', 'eher nicht empf.'],\n",
    "                            Vanilleeis = ['beiseite legen', 'eher empf.', 'eher nicht empf.'],\n",
    "                            Marmorkuchen = ['beiseite legen', 'eher empf.', 'eher nicht empf.'],\n",
    "                            ChickenNuggets = ['beiseite legen', 'eher empf.', 'eher nicht empf.'],\n",
    "                            Erdbeerjoghurt = ['beiseite legen', 'eher empf.', 'eher nicht empf.'],\n",
    "                            Salatgurke = ['beiseite legen', 'eher empf.', 'eher nicht empf.'],\n",
    "                            Brokkoli = ['beiseite legen', 'eher empf.', 'eher nicht empf.'],\n",
    "                            Schokomüsli = ['beiseite legen', 'eher empf.', 'eher nicht empf.'],\n",
    "                            Waffel = ['beiseite legen', 'eher empf.', 'eher nicht empf.'],\n",
    "                            Kartoffel = ['beiseite legen', 'eher empf.', 'eher nicht empf.'],\n",
    "                            Vollmilchschokolade = ['beiseite legen', 'eher empf.', 'eher nicht empf.'],\n",
    "                            Mayonaise = ['beiseite legen', 'eher empf.', 'eher nicht empf.'],\n",
    "                            Putenbrustfilet = ['beiseite legen', 'eher empf.', 'eher nicht empf.'],\n",
    "                            Avocado = ['beiseite legen', 'eher empf.', 'eher nicht empf.'],\n",
    "                            Gummibärchen = ['beiseite legen', 'eher empf.', 'eher nicht empf.'],\n",
    "                            Knäckebrot = ['beiseite legen', 'eher empf.', 'eher nicht empf.'],\n",
    "                            Haferflocken = ['beiseite legen', 'eher empf.', 'eher nicht empf.'],\n",
    "                            Himbeermarmelade = ['beiseite legen', 'eher empf.', 'eher nicht empf.'],\n",
    "                            Salzstangen = ['beiseite legen', 'eher empf.', 'eher nicht empf.'],\n",
    "                            Räucherlachs = ['beiseite legen', 'eher empf.', 'eher nicht empf.'],\n",
    "                            Spiegelei = ['beiseite legen', 'eher empf.', 'eher nicht empf.'],\n",
    "                            Zwieback = ['beiseite legen', 'eher empf.', 'eher nicht empf.'],\n",
    "                            Salamischeibe = ['beiseite legen', 'eher empf.', 'eher nicht empf.'],\n",
    "                            Bratwurst = ['beiseite legen', 'eher empf.', 'eher nicht empf.'],\n",
    "                            Butter = ['beiseite legen', 'eher empf.', 'eher nicht empf.'],\n",
    "                            Senf = ['beiseite legen', 'eher empf.', 'eher nicht empf.'],\n",
    "                            Walnüsse = ['beiseite legen', 'eher empf.', 'eher nicht empf.'],\n",
    "                            Datteln = ['beiseite legen', 'eher empf.', 'eher nicht empf.'],\n",
    "                            Champignons = ['beiseite legen', 'eher empf.', 'eher nicht empf.'],\n",
    "                            SchwarzwälderSchinken = ['beiseite legen', 'eher empf.', 'eher nicht empf.'])\n",
    "\n",
    "#label_widget"
   ]
  },
  {
   "cell_type": "code",
   "execution_count": 6,
   "metadata": {
    "hideCode": true,
    "hidePrompt": true,
    "hide_input": false,
    "jupyter": {
     "source_hidden": true
    }
   },
   "outputs": [],
   "source": [
    "liste= ['Apfel', 'Banane', 'Haselnussschnitte', 'Chips', 'Pommes', 'Nudeln', 'Erbsen', 'Eisbergsalat', 'Frikadelle',\n",
    "               'Brotscheibe', 'Popcorn', 'Vanilleeis', 'Marmorkuchen', 'Chicken Nuggets', 'Erdbeerjoghurt', 'Salatgurke',\n",
    "               'Brokkoli', 'Schokomüsli', 'Waffel', 'Kartoffel', 'Vollmilchschokolade', 'Mayonaise', 'Putenbrustfilet',\n",
    "               'Avocado', 'Gummibärchen', 'Knäckebrot', 'Haferflocken', 'Himbeermarmelade', 'Salzstangen', 'Räucherlachs',\n",
    "               'Spiegelei', 'Zwieback', 'Salamischeibe', 'Bratwurst', 'Butter', 'Senf', 'Walnüsse', 'Datteln', 'Champignons',\n",
    "               'Schwarzwälder Schinken']\n",
    "results=[]\n",
    "for i in liste:\n",
    "    results.append('beiseite legen')"
   ]
  },
  {
   "cell_type": "code",
   "execution_count": 7,
   "metadata": {
    "code_folding": [],
    "hideCode": true,
    "hidePrompt": true,
    "hide_input": false,
    "jupyter": {
     "source_hidden": true
    }
   },
   "outputs": [],
   "source": [
    "import ipywidgets as widgets\n",
    "import numpy\n",
    "\n",
    "\n",
    "\n",
    "def radiobuttons(name, index, option1, option2, option3):\n",
    "    \n",
    "    output_radio_selected = widgets.Text()\n",
    "    radio1 = widgets.RadioButtons(options=[option1])\n",
    "    radio2 = widgets.RadioButtons(options=[option2])\n",
    "    radio3 = widgets.RadioButtons(options=[option3])\n",
    "    selected_option = None\n",
    "\n",
    "    radio1.index = None\n",
    "    radio2.index = None\n",
    "    radio3.index = None\n",
    "\n",
    "\n",
    "    def radio1_observer(sender):\n",
    "\n",
    "\n",
    "        radio2.unobserve(radio2_observer, names=['value'])\n",
    "        radio2.index = None\n",
    "\n",
    "\n",
    "        radio3.unobserve(radio3_observer, names=['value'])\n",
    "        radio3.index = None\n",
    "\n",
    "\n",
    "        global selected_option1\n",
    "        output_radio_selected.value = radio1.value\n",
    "        selected_option1 = output_radio_selected.value\n",
    "        selected_option = selected_option1\n",
    "        #print(name + ' selected option set to: ' + selected_option)\n",
    "        results[index] = selected_option\n",
    "        \n",
    "        radio2.observe(radio2_observer, names=['value'])\n",
    "        radio3.observe(radio3_observer, names=['value'])\n",
    "\n",
    "\n",
    "\n",
    "    def radio2_observer(sender):\n",
    "        radio1.unobserve(radio1_observer, names=['value'])\n",
    "        radio1.index = None\n",
    "\n",
    "\n",
    "        radio3.unobserve(radio3_observer, names=['value'])\n",
    "        radio3.index = None\n",
    "\n",
    "\n",
    "        global selected_option2\n",
    "        output_radio_selected.value = radio2.value\n",
    "        selected_option2 = output_radio_selected.value\n",
    "        selected_option = selected_option2\n",
    "        #print(name + ' selected option set to: ' + selected_option)\n",
    "        results[index] = selected_option\n",
    "        \n",
    "        radio1.observe(radio1_observer, names=['value'])\n",
    "        radio3.observe(radio3_observer, names=['value'])\n",
    "  \n",
    "\n",
    "\n",
    "    def radio3_observer(sender):\n",
    "        radio1.unobserve(radio1_observer, names=['value'])\n",
    "        radio1.index = None\n",
    "\n",
    "\n",
    "        radio2.unobserve(radio2_observer, names=['value'])\n",
    "        radio2.index = None\n",
    "\n",
    "\n",
    "        global selected_option3\n",
    "        output_radio_selected.value = radio3.value\n",
    "        selected_option3 = output_radio_selected.value\n",
    "        selected_option = selected_option3\n",
    "        #print(name + ' selected option set to: ' + selected_option)\n",
    "        results[index] = selected_option\n",
    "        \n",
    "        radio1.observe(radio1_observer, names=['value'])\n",
    "        radio2.observe(radio2_observer, names=['value'])\n",
    "\n",
    "\n",
    "    radio1.observe(radio1_observer, names=['value'])\n",
    "    radio2.observe(radio2_observer, names=['value'])\n",
    "    radio3.observe(radio3_observer, names=['value'])\n",
    "    \n",
    "   \n",
    "\n",
    "\n",
    "    label = widgets.Label(name, layout={'width': '170px'})\n",
    "    \n",
    "    return [widgets.HBox([label, radio1, radio2, radio3]), selected_option]\n"
   ]
  },
  {
   "cell_type": "code",
   "execution_count": 8,
   "metadata": {
    "hideCode": true,
    "hidePrompt": true,
    "hide_input": false,
    "jupyter": {
     "source_hidden": true
    }
   },
   "outputs": [
    {
     "data": {
      "application/vnd.jupyter.widget-view+json": {
       "model_id": "35b181a98484450e856c48fd1d96cbbd",
       "version_major": 2,
       "version_minor": 0
      },
      "text/plain": [
       "HBox(children=(Label(value='Apfel', layout=Layout(width='170px')), RadioButtons(options=('eher empfehlenswert'…"
      ]
     },
     "metadata": {},
     "output_type": "display_data"
    },
    {
     "data": {
      "application/vnd.jupyter.widget-view+json": {
       "model_id": "fb615356a9104261940595c400750dd1",
       "version_major": 2,
       "version_minor": 0
      },
      "text/plain": [
       "HBox(children=(Label(value='Banane', layout=Layout(width='170px')), RadioButtons(options=('eher empfehlenswert…"
      ]
     },
     "metadata": {},
     "output_type": "display_data"
    },
    {
     "data": {
      "application/vnd.jupyter.widget-view+json": {
       "model_id": "9716e65ca06f40bdbe917dc6e75e88ce",
       "version_major": 2,
       "version_minor": 0
      },
      "text/plain": [
       "HBox(children=(Label(value='Haselnussschnitte', layout=Layout(width='170px')), RadioButtons(options=('eher emp…"
      ]
     },
     "metadata": {},
     "output_type": "display_data"
    },
    {
     "data": {
      "application/vnd.jupyter.widget-view+json": {
       "model_id": "1a29c78c0b724d22aea6f99e0548738e",
       "version_major": 2,
       "version_minor": 0
      },
      "text/plain": [
       "HBox(children=(Label(value='Chips', layout=Layout(width='170px')), RadioButtons(options=('eher empfehlenswert'…"
      ]
     },
     "metadata": {},
     "output_type": "display_data"
    },
    {
     "data": {
      "application/vnd.jupyter.widget-view+json": {
       "model_id": "3693a2edf5a747949d18784b16d3f32f",
       "version_major": 2,
       "version_minor": 0
      },
      "text/plain": [
       "HBox(children=(Label(value='Pommes', layout=Layout(width='170px')), RadioButtons(options=('eher empfehlenswert…"
      ]
     },
     "metadata": {},
     "output_type": "display_data"
    },
    {
     "data": {
      "application/vnd.jupyter.widget-view+json": {
       "model_id": "3e308cc368ef4fd5b8c9d51b9f9db7ce",
       "version_major": 2,
       "version_minor": 0
      },
      "text/plain": [
       "HBox(children=(Label(value='Nudeln', layout=Layout(width='170px')), RadioButtons(options=('eher empfehlenswert…"
      ]
     },
     "metadata": {},
     "output_type": "display_data"
    },
    {
     "data": {
      "application/vnd.jupyter.widget-view+json": {
       "model_id": "3666cb2557524fd2855b34a1524c2896",
       "version_major": 2,
       "version_minor": 0
      },
      "text/plain": [
       "HBox(children=(Label(value='Erbsen', layout=Layout(width='170px')), RadioButtons(options=('eher empfehlenswert…"
      ]
     },
     "metadata": {},
     "output_type": "display_data"
    },
    {
     "data": {
      "application/vnd.jupyter.widget-view+json": {
       "model_id": "7c6c86e72b2740c5aba5cbecb1dbec43",
       "version_major": 2,
       "version_minor": 0
      },
      "text/plain": [
       "HBox(children=(Label(value='Eisbergsalat', layout=Layout(width='170px')), RadioButtons(options=('eher empfehle…"
      ]
     },
     "metadata": {},
     "output_type": "display_data"
    },
    {
     "data": {
      "application/vnd.jupyter.widget-view+json": {
       "model_id": "6b7de0cbb89b41ce89eb3da99de2743d",
       "version_major": 2,
       "version_minor": 0
      },
      "text/plain": [
       "HBox(children=(Label(value='Frikadelle', layout=Layout(width='170px')), RadioButtons(options=('eher empfehlens…"
      ]
     },
     "metadata": {},
     "output_type": "display_data"
    },
    {
     "data": {
      "application/vnd.jupyter.widget-view+json": {
       "model_id": "6bafc6405003457d8b14af425cdaa2e6",
       "version_major": 2,
       "version_minor": 0
      },
      "text/plain": [
       "HBox(children=(Label(value='Brotscheibe', layout=Layout(width='170px')), RadioButtons(options=('eher empfehlen…"
      ]
     },
     "metadata": {},
     "output_type": "display_data"
    },
    {
     "data": {
      "application/vnd.jupyter.widget-view+json": {
       "model_id": "6b9e6c0a51354b74a9882c4eb27b167c",
       "version_major": 2,
       "version_minor": 0
      },
      "text/plain": [
       "HBox(children=(Label(value='Popcorn', layout=Layout(width='170px')), RadioButtons(options=('eher empfehlenswer…"
      ]
     },
     "metadata": {},
     "output_type": "display_data"
    },
    {
     "data": {
      "application/vnd.jupyter.widget-view+json": {
       "model_id": "88d546643e4947808b2d0995e8a89216",
       "version_major": 2,
       "version_minor": 0
      },
      "text/plain": [
       "HBox(children=(Label(value='Vanilleeis', layout=Layout(width='170px')), RadioButtons(options=('eher empfehlens…"
      ]
     },
     "metadata": {},
     "output_type": "display_data"
    },
    {
     "data": {
      "application/vnd.jupyter.widget-view+json": {
       "model_id": "8036e48a465e4b95857f2770cea79dd3",
       "version_major": 2,
       "version_minor": 0
      },
      "text/plain": [
       "HBox(children=(Label(value='Marmorkuchen', layout=Layout(width='170px')), RadioButtons(options=('eher empfehle…"
      ]
     },
     "metadata": {},
     "output_type": "display_data"
    },
    {
     "data": {
      "application/vnd.jupyter.widget-view+json": {
       "model_id": "0e33a75584fd4c939be7cadd44979fe6",
       "version_major": 2,
       "version_minor": 0
      },
      "text/plain": [
       "HBox(children=(Label(value='Chicken Nuggets', layout=Layout(width='170px')), RadioButtons(options=('eher empfe…"
      ]
     },
     "metadata": {},
     "output_type": "display_data"
    },
    {
     "data": {
      "application/vnd.jupyter.widget-view+json": {
       "model_id": "014a42b38f0944198007e6ebe40d66fa",
       "version_major": 2,
       "version_minor": 0
      },
      "text/plain": [
       "HBox(children=(Label(value='Erdbeerjoghurt', layout=Layout(width='170px')), RadioButtons(options=('eher empfeh…"
      ]
     },
     "metadata": {},
     "output_type": "display_data"
    },
    {
     "data": {
      "application/vnd.jupyter.widget-view+json": {
       "model_id": "74ff194769ec4a029ce536a1bc42d350",
       "version_major": 2,
       "version_minor": 0
      },
      "text/plain": [
       "HBox(children=(Label(value='Salatgurke', layout=Layout(width='170px')), RadioButtons(options=('eher empfehlens…"
      ]
     },
     "metadata": {},
     "output_type": "display_data"
    },
    {
     "data": {
      "application/vnd.jupyter.widget-view+json": {
       "model_id": "98cd58b6b0f046e3a0fcfa084d0c0248",
       "version_major": 2,
       "version_minor": 0
      },
      "text/plain": [
       "HBox(children=(Label(value='Brokkoli', layout=Layout(width='170px')), RadioButtons(options=('eher empfehlenswe…"
      ]
     },
     "metadata": {},
     "output_type": "display_data"
    },
    {
     "data": {
      "application/vnd.jupyter.widget-view+json": {
       "model_id": "09231fce38a4473f9b300937ec2edc3a",
       "version_major": 2,
       "version_minor": 0
      },
      "text/plain": [
       "HBox(children=(Label(value='Schokomüsli', layout=Layout(width='170px')), RadioButtons(options=('eher empfehlen…"
      ]
     },
     "metadata": {},
     "output_type": "display_data"
    },
    {
     "data": {
      "application/vnd.jupyter.widget-view+json": {
       "model_id": "fb7249ca30614a7db1cd590ec6a3b531",
       "version_major": 2,
       "version_minor": 0
      },
      "text/plain": [
       "HBox(children=(Label(value='Waffel', layout=Layout(width='170px')), RadioButtons(options=('eher empfehlenswert…"
      ]
     },
     "metadata": {},
     "output_type": "display_data"
    },
    {
     "data": {
      "application/vnd.jupyter.widget-view+json": {
       "model_id": "943165afb6da441f83c34375a54833d5",
       "version_major": 2,
       "version_minor": 0
      },
      "text/plain": [
       "HBox(children=(Label(value='Kartoffel', layout=Layout(width='170px')), RadioButtons(options=('eher empfehlensw…"
      ]
     },
     "metadata": {},
     "output_type": "display_data"
    },
    {
     "data": {
      "application/vnd.jupyter.widget-view+json": {
       "model_id": "7e476cf393fd4126ad809866d9c27675",
       "version_major": 2,
       "version_minor": 0
      },
      "text/plain": [
       "HBox(children=(Label(value='Vollmilchschokolade', layout=Layout(width='170px')), RadioButtons(options=('eher e…"
      ]
     },
     "metadata": {},
     "output_type": "display_data"
    },
    {
     "data": {
      "application/vnd.jupyter.widget-view+json": {
       "model_id": "242691436b1f458eb1c5ef19ab9c2c97",
       "version_major": 2,
       "version_minor": 0
      },
      "text/plain": [
       "HBox(children=(Label(value='Mayonaise', layout=Layout(width='170px')), RadioButtons(options=('eher empfehlensw…"
      ]
     },
     "metadata": {},
     "output_type": "display_data"
    },
    {
     "data": {
      "application/vnd.jupyter.widget-view+json": {
       "model_id": "46aae5309c71402da9182361470138c2",
       "version_major": 2,
       "version_minor": 0
      },
      "text/plain": [
       "HBox(children=(Label(value='Putenbrustfilet', layout=Layout(width='170px')), RadioButtons(options=('eher empfe…"
      ]
     },
     "metadata": {},
     "output_type": "display_data"
    },
    {
     "data": {
      "application/vnd.jupyter.widget-view+json": {
       "model_id": "6b012b296715472fb8c37e4c34a7cc5f",
       "version_major": 2,
       "version_minor": 0
      },
      "text/plain": [
       "HBox(children=(Label(value='Avocado', layout=Layout(width='170px')), RadioButtons(options=('eher empfehlenswer…"
      ]
     },
     "metadata": {},
     "output_type": "display_data"
    },
    {
     "data": {
      "application/vnd.jupyter.widget-view+json": {
       "model_id": "2f31f9306b9c40ba9dcc9a4e83a58224",
       "version_major": 2,
       "version_minor": 0
      },
      "text/plain": [
       "HBox(children=(Label(value='Gummibärchen', layout=Layout(width='170px')), RadioButtons(options=('eher empfehle…"
      ]
     },
     "metadata": {},
     "output_type": "display_data"
    },
    {
     "data": {
      "application/vnd.jupyter.widget-view+json": {
       "model_id": "018fbb2ffa964b568520b44ca23b7f34",
       "version_major": 2,
       "version_minor": 0
      },
      "text/plain": [
       "HBox(children=(Label(value='Knäckebrot', layout=Layout(width='170px')), RadioButtons(options=('eher empfehlens…"
      ]
     },
     "metadata": {},
     "output_type": "display_data"
    },
    {
     "data": {
      "application/vnd.jupyter.widget-view+json": {
       "model_id": "a3cde7cb60134498b84b6fc1ad41c775",
       "version_major": 2,
       "version_minor": 0
      },
      "text/plain": [
       "HBox(children=(Label(value='Haferflocken', layout=Layout(width='170px')), RadioButtons(options=('eher empfehle…"
      ]
     },
     "metadata": {},
     "output_type": "display_data"
    },
    {
     "data": {
      "application/vnd.jupyter.widget-view+json": {
       "model_id": "11a1b8ab3a4e484d873181ff07d15634",
       "version_major": 2,
       "version_minor": 0
      },
      "text/plain": [
       "HBox(children=(Label(value='Himbeermarmelade', layout=Layout(width='170px')), RadioButtons(options=('eher empf…"
      ]
     },
     "metadata": {},
     "output_type": "display_data"
    },
    {
     "data": {
      "application/vnd.jupyter.widget-view+json": {
       "model_id": "0f4ea625b4964c9cba113b4797510776",
       "version_major": 2,
       "version_minor": 0
      },
      "text/plain": [
       "HBox(children=(Label(value='Salzstangen', layout=Layout(width='170px')), RadioButtons(options=('eher empfehlen…"
      ]
     },
     "metadata": {},
     "output_type": "display_data"
    },
    {
     "data": {
      "application/vnd.jupyter.widget-view+json": {
       "model_id": "4eafce17dd724f0393c3eff9b5ef02fd",
       "version_major": 2,
       "version_minor": 0
      },
      "text/plain": [
       "HBox(children=(Label(value='Räucherlachs', layout=Layout(width='170px')), RadioButtons(options=('eher empfehle…"
      ]
     },
     "metadata": {},
     "output_type": "display_data"
    },
    {
     "data": {
      "application/vnd.jupyter.widget-view+json": {
       "model_id": "fd4ccccaa9ca41068569ccd04869c711",
       "version_major": 2,
       "version_minor": 0
      },
      "text/plain": [
       "HBox(children=(Label(value='Spiegelei', layout=Layout(width='170px')), RadioButtons(options=('eher empfehlensw…"
      ]
     },
     "metadata": {},
     "output_type": "display_data"
    },
    {
     "data": {
      "application/vnd.jupyter.widget-view+json": {
       "model_id": "663b14d75fa340fb93d246fe35fe38fa",
       "version_major": 2,
       "version_minor": 0
      },
      "text/plain": [
       "HBox(children=(Label(value='Zwieback', layout=Layout(width='170px')), RadioButtons(options=('eher empfehlenswe…"
      ]
     },
     "metadata": {},
     "output_type": "display_data"
    },
    {
     "data": {
      "application/vnd.jupyter.widget-view+json": {
       "model_id": "73657bf1ef7344eaa277e7675241be87",
       "version_major": 2,
       "version_minor": 0
      },
      "text/plain": [
       "HBox(children=(Label(value='Salamischeibe', layout=Layout(width='170px')), RadioButtons(options=('eher empfehl…"
      ]
     },
     "metadata": {},
     "output_type": "display_data"
    },
    {
     "data": {
      "application/vnd.jupyter.widget-view+json": {
       "model_id": "f09f84a735b5434597a5bc80b6282bda",
       "version_major": 2,
       "version_minor": 0
      },
      "text/plain": [
       "HBox(children=(Label(value='Bratwurst', layout=Layout(width='170px')), RadioButtons(options=('eher empfehlensw…"
      ]
     },
     "metadata": {},
     "output_type": "display_data"
    },
    {
     "data": {
      "application/vnd.jupyter.widget-view+json": {
       "model_id": "54471ada9d3449c1a9a9cc2fa7e3ef34",
       "version_major": 2,
       "version_minor": 0
      },
      "text/plain": [
       "HBox(children=(Label(value='Butter', layout=Layout(width='170px')), RadioButtons(options=('eher empfehlenswert…"
      ]
     },
     "metadata": {},
     "output_type": "display_data"
    },
    {
     "data": {
      "application/vnd.jupyter.widget-view+json": {
       "model_id": "49714719560b4580bfb8a487f2b999be",
       "version_major": 2,
       "version_minor": 0
      },
      "text/plain": [
       "HBox(children=(Label(value='Senf', layout=Layout(width='170px')), RadioButtons(options=('eher empfehlenswert',…"
      ]
     },
     "metadata": {},
     "output_type": "display_data"
    },
    {
     "data": {
      "application/vnd.jupyter.widget-view+json": {
       "model_id": "48595a090f41453e8275a9407079cbca",
       "version_major": 2,
       "version_minor": 0
      },
      "text/plain": [
       "HBox(children=(Label(value='Walnüsse', layout=Layout(width='170px')), RadioButtons(options=('eher empfehlenswe…"
      ]
     },
     "metadata": {},
     "output_type": "display_data"
    },
    {
     "data": {
      "application/vnd.jupyter.widget-view+json": {
       "model_id": "7aaf44461de14e2a9b624b1a2df16a81",
       "version_major": 2,
       "version_minor": 0
      },
      "text/plain": [
       "HBox(children=(Label(value='Datteln', layout=Layout(width='170px')), RadioButtons(options=('eher empfehlenswer…"
      ]
     },
     "metadata": {},
     "output_type": "display_data"
    },
    {
     "data": {
      "application/vnd.jupyter.widget-view+json": {
       "model_id": "44866a5304fb4fbb94ea4e839d8e48fc",
       "version_major": 2,
       "version_minor": 0
      },
      "text/plain": [
       "HBox(children=(Label(value='Champignons', layout=Layout(width='170px')), RadioButtons(options=('eher empfehlen…"
      ]
     },
     "metadata": {},
     "output_type": "display_data"
    },
    {
     "data": {
      "application/vnd.jupyter.widget-view+json": {
       "model_id": "3e7b930b633f4f66b74ab53c191edcbb",
       "version_major": 2,
       "version_minor": 0
      },
      "text/plain": [
       "HBox(children=(Label(value='Schwarzwälder Schinken', layout=Layout(width='170px')), RadioButtons(options=('ehe…"
      ]
     },
     "metadata": {},
     "output_type": "display_data"
    }
   ],
   "source": [
    "j = 0\n",
    "for i in liste:\n",
    "    display(radiobuttons(i, j, 'eher empfehlenswert','eher nicht empfehlenswert','beiseite legen')[0])\n",
    "    j+=1"
   ]
  },
  {
   "cell_type": "code",
   "execution_count": 9,
   "metadata": {
    "hideCode": true,
    "hidePrompt": true,
    "hide_input": false,
    "jupyter": {
     "source_hidden": true
    }
   },
   "outputs": [
    {
     "data": {
      "application/vnd.jupyter.widget-view+json": {
       "model_id": "d15a1e4338ba4db5a7008f9421fa012a",
       "version_major": 2,
       "version_minor": 0
      },
      "text/plain": [
       "interactive(children=(Button(description='Label eintragen', style=ButtonStyle()), Output()), _dom_classes=('wi…"
      ]
     },
     "metadata": {},
     "output_type": "display_data"
    }
   ],
   "source": [
    "def fill_in_label(label_list):\n",
    "    df_lebensmittel_label = df_lebensmittel.copy()\n",
    "    df_lebensmittel_label['Label'] = label_list\n",
    "    df_lebensmittel_label_alle = df_lebensmittel_label.copy()\n",
    "    df_lebensmittel_label = df_lebensmittel_label[df_lebensmittel_label['Label']!='beiseite legen']\n",
    "    display(df_lebensmittel_label)\n",
    "    return df_lebensmittel_label, df_lebensmittel_label_alle\n",
    "label_widget = interactive(fill_in_label,{'manual': True, 'manual_name': 'Label eintragen'},label_list = fixed(results)) \n",
    "display(label_widget)\n",
    "label_widget.result = df_lebensmittel, df_lebensmittel"
   ]
  },
  {
   "cell_type": "markdown",
   "metadata": {},
   "source": [
    "# Daten sortieren"
   ]
  },
  {
   "cell_type": "markdown",
   "metadata": {
    "hide_input": true
   },
   "source": [
    "<div class=\"panel panel-success\">\n",
    "    <div class=\"panel-heading\">\n",
    "        <b> Eklärungstext </b>\n",
    "    </div>\n",
    "    <div class=\"panel-body\">\n",
    "Vielleicht erinnerst du dich daran, wie mühsam das <b>Sortieren</b> der Datenkarten für ein Merkmal war. Der Computer kann das viel schneller. \n",
    "\n",
    "\n",
    "</div> \n"
   ]
  },
  {
   "cell_type": "markdown",
   "metadata": {},
   "source": [
    "<div class=\"panel panel-info\">\n",
    "    <div class=\"panel-heading\">\n",
    "        <b>Aufgabe - Die Datentabelle sortieren</b>\n",
    "    </div>\n",
    "    <div class=\"panel-body\">\n",
    " Wähle ein Merkmal aus, nach dem die Datentabelle sortiert werden soll.\n",
    "        <p><p>\n",
    "       Welches Lebensmittel steht nun in der Datentabelle ganz oben?\n",
    "    </div> \n",
    "</div>"
   ]
  },
  {
   "cell_type": "code",
   "execution_count": 10,
   "metadata": {
    "hideCode": true,
    "hidePrompt": true,
    "hide_input": false,
    "jupyter": {
     "source_hidden": true
    }
   },
   "outputs": [
    {
     "data": {
      "application/vnd.jupyter.widget-view+json": {
       "model_id": "bd6b2cf308e24f9c85516243e191acfb",
       "version_major": 2,
       "version_minor": 0
      },
      "text/plain": [
       "interactive(children=(Dropdown(description='Merkmal', options=('Energie', 'Fett', 'gesättigte Fettsäuren', 'Ko…"
      ]
     },
     "execution_count": 10,
     "metadata": {},
     "output_type": "execute_result"
    }
   ],
   "source": [
    "def sort_data(Merkmal):\n",
    "    try:\n",
    "        df_lebensmittel_label = label_widget.result[0].copy() \n",
    "        df_lebensmittel_label = df_lebensmittel_label[df_lebensmittel_label['Label']!='beiseite legen']\n",
    "        display(df_lebensmittel_label.sort_values(Merkmal))\n",
    "        return df_lebensmittel_label.sort_values(Merkmal)\n",
    "    \n",
    "    except:\n",
    "        print('FEHLER')\n",
    "        print('Die Label sind noch nicht korrekt eingetragen.')\n",
    "        print('Wähle die Label oben aus und bestätige mit dem Button: \"Label Eintragen\"')\n",
    "sort_widget = interactive(sort_data,{'manual': True, 'manual_name': 'Sortiere Daten'}, Merkmal = df_lebensmittel.columns) \n",
    "sort_widget"
   ]
  },
  {
   "cell_type": "markdown",
   "metadata": {},
   "source": [
    "# Eine Entscheidungsregel aufstellen"
   ]
  },
  {
   "cell_type": "markdown",
   "metadata": {},
   "source": [
    "<div class=\"panel panel-success\">\n",
    "    <div class=\"panel-heading\">\n",
    "        <b> Eklärungtext - Schwellenwerte ausprobieren</b>\n",
    "    </div>\n",
    "    <div class=\"panel-body\">\n",
    "Im Unterricht hast Du als nächstes einen Schwellenwert gesucht, der die sortierten Daten möglichst gut in \"eher empfehlenswert\" und in \"eher nicht empfehlenswert\" trennt. Du kannst hier verschiedene Schwellenwerte ausprobieren.\n",
    "        <p><p>\n",
    "        <b> Tipp</b> <p>\n",
    "        Nimm das Merkmal, nach dem Du die Datentabelle gerade sortiert hast und probier verschiedene Schwellenwerte aus.\n",
    "\n",
    "<p></p>        \n",
    "        <b>Hinweis</b><p>\n",
    "Wenn du <b>automatisch</b> anklickst wird der ausgesuchte Schwellwert ignoriert und der Computer sucht automatisch den besten Schwellwert für das ausgewählte Merkmal. Dann wird auch eine Tabelle angezeigt, in der du ablesen kannst, welche Schwellwerte der Computer untersucht hat. Es ist faszinierend wie Schnell der Computer den besten Schwellwert findet.\n",
    "        \n",
    "</div> \n"
   ]
  },
  {
   "cell_type": "markdown",
   "metadata": {},
   "source": [
    "<div class=\"panel panel-info\">\n",
    "    <div class=\"panel-heading\">\n",
    "        <b>Aufgabe - Was siehst Du jetzt?</b>\n",
    "    </div>\n",
    "    <div class=\"panel-body\">\n",
    "        Wie viele Lebensmittel werden mit Deinem Schwellenwert richtig klassifiziert? <p>\n",
    "        Wie viele werden falsch klassifiziert?<p>\n",
    "        Probier noch einmal einen anderen Schwellenwert aus und vergleiche, welcher besser ist!\n",
    "    </div> \n",
    "</div>"
   ]
  },
  {
   "cell_type": "code",
   "execution_count": 11,
   "metadata": {
    "hideCode": true,
    "hidePrompt": true,
    "hide_input": false,
    "jupyter": {
     "source_hidden": true
    }
   },
   "outputs": [
    {
     "data": {
      "application/vnd.jupyter.widget-view+json": {
       "model_id": "2a17a6e4fc0145378f403b616215db43",
       "version_major": 2,
       "version_minor": 0
      },
      "text/plain": [
       "interactive(children=(Dropdown(description='Merkmal', options=('Energie', 'Fett', 'gesättigte Fettsäuren', 'Ko…"
      ]
     },
     "execution_count": 11,
     "metadata": {},
     "output_type": "execute_result"
    }
   ],
   "source": [
    "def datensplit(Schwellwert, automatisch):\n",
    "    \n",
    "    Kriterium = 'misclassification_error'\n",
    "    Zielvariable = 'Label'\n",
    "    try:\n",
    "        df_lebensmittel_label = label_widget.result[0].copy()\n",
    "        df_lebensmittel_label = df_lebensmittel_label[df_lebensmittel_label['Label']!='beiseite legen']\n",
    "\n",
    "        tree = ct.DecisionTree(data = df_lebensmittel_label, target = Zielvariable, crit = Kriterium)\n",
    "        if automatisch:\n",
    "            doc = tree.manual_split(attribute = merkmal_widget.result, doc = True)\n",
    "        else:\n",
    "            tree.manual_split(attribute = merkmal_widget.result, threshold = Schwellwert, doc = True)\n",
    "        \n",
    "        tree.print_tree()\n",
    "        display(tree.tree_graph)\n",
    "        \n",
    "        if automatisch:\n",
    "            df_uebersicht = pd.DataFrame()\n",
    "            df_uebersicht['Merkmal'] = doc['Attribute']\n",
    "            df_uebersicht['Schwellwert'] = doc['Threshold']\n",
    "            df_uebersicht['Fehlklassifikationen'] = (min(tree.tree_nodes[1].subset['Label'].value_counts().sort_index().tolist()) - doc['Criterion'] * len(df_lebensmittel_label)).astype(int)\n",
    "\n",
    "            display(df_uebersicht)\n",
    "\n",
    "        print('Korrekt Klassifikationen:',int((tree.prediction_accuracy(df_lebensmittel_label))*len(tree.tree_nodes[1].subset)),' \\n')\n",
    "        print('Fehlklassifikationen',int((1-(tree.prediction_accuracy(df_lebensmittel_label)))*len(tree.tree_nodes[1].subset)),' \\n')\n",
    "        return tree\n",
    "    \n",
    "    except:\n",
    "        print('FEHLER')\n",
    "        print('Die Label sind noch nicht korrekt eingetragen.')\n",
    "        print('Wähle die Label oben aus und bestätige mit dem Button: \"Label Eintragen\"')\n",
    "\n",
    "def merkmal(Merkmal):\n",
    "    split_widget = interactive(datensplit,{'manual': True, 'manual_name': 'Erstelle Split'}, Schwellwert = (label_widget.result[0][Merkmal].value_counts().sort_index().index.min()+0.1,label_widget.result[0][Merkmal].value_counts().sort_index().index.max()-0.1,0.1),automatisch = False)                           \n",
    "    display(split_widget)\n",
    "    return Merkmal\n",
    "merkmal_widget = interactive(merkmal, Merkmal = df_lebensmittel.columns) \n",
    "merkmal_widget\n"
   ]
  },
  {
   "cell_type": "markdown",
   "metadata": {
    "hide_input": true
   },
   "source": [
    "# Entscheidungsbaum automatisch erstellen lassen"
   ]
  },
  {
   "cell_type": "markdown",
   "metadata": {},
   "source": [
    "<div class=\"panel panel-success\">\n",
    "    <div class=\"panel-heading\">\n",
    "        <b> Eklärungtext </b>\n",
    "    </div>\n",
    "    <div class=\"panel-body\">\n",
    "Jetzt übernimmt der Computer die ganze Arbeit. Das sortieren und auswählen der Schwellwerte passiert ganz automatisch, indem der Computer als Möglichkeiten testet.\n",
    "\n",
    "</div> \n"
   ]
  },
  {
   "cell_type": "markdown",
   "metadata": {},
   "source": [
    "<div class=\"panel panel-info\">\n",
    "    <div class=\"panel-heading\">\n",
    "        <b>Aufgabe - Die Anzahl der Stufen verändern</b>\n",
    "    </div>\n",
    "    <div class=\"panel-body\">\n",
    "        Las automatisch einen Entscheidungsbaum erstellen. Du kannst dem Computer dabei noch sagen, wie viele Stufen der Entscheidungsbaum haben soll. <p><p>\n",
    "        Probier mal aus, wie der Baum aussieht, wenn Du verschiedene Tiefen einstellst.\n",
    "    </div> \n",
    "</div>"
   ]
  },
  {
   "cell_type": "code",
   "execution_count": 12,
   "metadata": {
    "hideCode": true,
    "hidePrompt": true,
    "hide_input": false,
    "jupyter": {
     "source_hidden": true
    }
   },
   "outputs": [
    {
     "data": {
      "application/vnd.jupyter.widget-view+json": {
       "model_id": "7726cb92c7bf423fb5eb006922340ddd",
       "version_major": 2,
       "version_minor": 0
      },
      "text/plain": [
       "interactive(children=(IntSlider(value=3, description='Max_Stufen', max=6, min=1), Button(description='Erstelle…"
      ]
     },
     "execution_count": 12,
     "metadata": {},
     "output_type": "execute_result"
    }
   ],
   "source": [
    "def grow_tree( Max_Stufen):\n",
    "    \n",
    "    try:\n",
    "        Kriterium = 'misclassification_error'\n",
    "        Zielvariable = 'Label'\n",
    "        df_lebensmittel_label = label_widget.result[0].copy()\n",
    "        df_lebensmittel_label = df_lebensmittel_label[df_lebensmittel_label['Label']!='beiseite legen']                                                                                                                \n",
    "\n",
    "        tree = ct.DecisionTree(data = df_lebensmittel_label, target = Zielvariable, crit = Kriterium)\n",
    "        tree.grow_tree(max_depth = Max_Stufen-1)\n",
    "        tree.print_tree()\n",
    "        display(tree.tree_graph)\n",
    "\n",
    "\n",
    "        print('Korrekt Klassifikationen:',int((tree.prediction_accuracy(df_lebensmittel_label))*len(tree.tree_nodes[1].subset)),' \\n')\n",
    "        print('Fehlklassifikationen',int(round((1-(tree.prediction_accuracy(df_lebensmittel_label)))*len(tree.tree_nodes[1].subset),2)),' \\n')\n",
    "        print ('\\n Super, du hast den Computer einen Entscheidungsbaum erstellen lassen!')\n",
    "\n",
    "        return tree\n",
    "    except:\n",
    "        print('FEHLER')\n",
    "        print('Die Label sind noch nicht korrekt eingetragen.')\n",
    "        print('Wähle die Label oben aus und bestätige mit dem Button: \"Label Eintragen\"')\n",
    "tree_widget = interactive(grow_tree,{'manual': True, 'manual_name': 'Erstelle Baum'}, Max_Stufen=(1,6,1) ) \n",
    "tree_widget"
   ]
  },
  {
   "cell_type": "markdown",
   "metadata": {},
   "source": [
    "# Testdaten"
   ]
  },
  {
   "cell_type": "markdown",
   "metadata": {},
   "source": [
    "<div class=\"panel panel-success\">\n",
    "    <div class=\"panel-heading\">\n",
    "        <b> Eklärungtext - Ist der Baum gut? </b>\n",
    "    </div>\n",
    "    <div class=\"panel-body\">\n",
    "Hier kannst du den Entscheidungsbaum anwenden und testen. Wähle dazu ein Lebensmittel aus, das durch den Entscheidungsbaum klassifiziert werden soll. \n",
    "\n",
    "</div> \n"
   ]
  },
  {
   "cell_type": "code",
   "execution_count": 13,
   "metadata": {
    "code_folding": [],
    "hideCode": true,
    "hidePrompt": true,
    "hide_input": false,
    "jupyter": {
     "source_hidden": true
    }
   },
   "outputs": [
    {
     "data": {
      "application/vnd.jupyter.widget-view+json": {
       "model_id": "13f41c8bde5848f190ff58cd2a3f8d21",
       "version_major": 2,
       "version_minor": 0
      },
      "text/plain": [
       "interactive(children=(Dropdown(description='Lebensmittel', options=('Apfel', 'Banane', 'Haselnussschnitte', 'C…"
      ]
     },
     "execution_count": 13,
     "metadata": {},
     "output_type": "execute_result"
    }
   ],
   "source": [
    "def test(Lebensmittel):\n",
    "    \n",
    "    try:\n",
    "        df_lebensmittel_label = label_widget.result[1].copy()\n",
    "\n",
    "        print('Nährwerte von ' + Lebensmittel)\n",
    "        display(df_lebensmittel_label.loc[Lebensmittel])\n",
    "        \n",
    "        try:\n",
    "            print('Der Entscheidungsbaum klassifiziert das Lebensmittel ' + Lebensmittel + ' als:')\n",
    "            display(tree_widget.result.query(df_lebensmittel_label.loc[Lebensmittel]))\n",
    "        except:\n",
    "            print('FEHLER')\n",
    "            print('Es wurde noch kein Entscheidungsbaum erstellt')\n",
    "            print('Wähle lass weiter oben automatisch einen Entscheidungsbaum erstellen.')\n",
    "\n",
    "        #print('Korrekt Klassifikationen:',int((tree.prediction_accuracy(df_lebensmittel_label))*len(tree.tree_nodes[1].subset)),' \\n')\n",
    "        #print('Fehlklassifikationen',int((1-(tree.prediction_accuracy(df_lebensmittel_label)))*len(tree.tree_nodes[1].subset)),' \\n')\n",
    "\n",
    "\n",
    "        #return tree\n",
    "    except:\n",
    "        print('FEHLER')\n",
    "        print('Die Label sind noch nicht korrekt eingetragen.')\n",
    "        print('Wähle die Label oben aus und bestätige mit dem Button: \"Label Eintragen\"')\n",
    "test_widget = interactive(test,{'manual': True, 'manual_name': 'Klassifiziere'}, Lebensmittel=df_lebensmittel.index) \n",
    "test_widget\n",
    "\n"
   ]
  },
  {
   "cell_type": "code",
   "execution_count": null,
   "metadata": {
    "jupyter": {
     "source_hidden": true
    }
   },
   "outputs": [],
   "source": []
  }
 ],
 "metadata": {
  "celltoolbar": "Hide code",
  "hide_input": false,
  "kernelspec": {
   "display_name": "Python 3 (ipykernel)",
   "language": "python",
   "name": "python3"
  },
  "language_info": {
   "codemirror_mode": {
    "name": "ipython",
    "version": 3
   },
   "file_extension": ".py",
   "mimetype": "text/x-python",
   "name": "python",
   "nbconvert_exporter": "python",
   "pygments_lexer": "ipython3",
   "version": "3.10.10"
  },
  "toc": {
   "base_numbering": 1,
   "nav_menu": {},
   "number_sections": true,
   "sideBar": true,
   "skip_h1_title": false,
   "title_cell": "Table of Contents",
   "title_sidebar": "Contents",
   "toc_cell": false,
   "toc_position": {
    "height": "calc(100% - 180px)",
    "left": "10px",
    "top": "150px",
    "width": "384px"
   },
   "toc_section_display": true,
   "toc_window_display": true
  }
 },
 "nbformat": 4,
 "nbformat_minor": 4
}
